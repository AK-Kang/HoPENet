{
 "cells": [
  {
   "cell_type": "markdown",
   "metadata": {
    "colab_type": "text",
    "id": "view-in-github"
   },
   "source": [
    "<a href=\"https://colab.research.google.com/github/ananyaa06/Create-A-Thon-Fantastic-4/blob/main/Homelessness_Prediction_Project.ipynb\" target=\"_parent\"><img src=\"https://colab.research.google.com/assets/colab-badge.svg\" alt=\"Open In Colab\"/></a>"
   ]
  },
  {
   "cell_type": "markdown",
   "metadata": {
    "id": "r-8Ay_jcfxKv"
   },
   "source": [
    "Link to data source (also has the link to the data dictionary)  https://www.huduser.gov/portal/datasets//hpmd.html"
   ]
  },
  {
   "cell_type": "code",
   "execution_count": null,
   "metadata": {
    "id": "Sc-Fx2ahfVAG"
   },
   "outputs": [],
   "source": [
    "import pandas as pd\n",
    "import numpy as np"
   ]
  },
  {
   "cell_type": "code",
   "execution_count": null,
   "metadata": {
    "id": "CMtsmcn_fdmb"
   },
   "outputs": [],
   "source": [
    "dataset = pd.read_csv(\"https://www.huduser.gov/portal/sites/default/files/xls/05b_analysis_file_update.csv\")"
   ]
  },
  {
   "cell_type": "markdown",
   "metadata": {
    "id": "vBSbf5UcXRD7"
   },
   "source": [
    "# FUNCTIONS"
   ]
  },
  {
   "cell_type": "code",
   "execution_count": null,
   "metadata": {
    "id": "tq8h81OpPruK"
   },
   "outputs": [],
   "source": [
    "def generate_data(outcome_var):\n",
    "\n",
    "  # CREATE LISTS FOR OUTCOME VARIABLES\n",
    "  outcomes = list(dataset.keys())[2:5] + [\"pit_miss\", \n",
    "                                        \"odd_flag\", \n",
    "                                        \"pit_hless_balance\", \n",
    "                                        \"pit_shelt_balance\", \n",
    "                                        \"pit_unshelt_balance\", \n",
    "                                        \"unbalance_flag\", \n",
    "                                        \"pit_shelt_pit_hud_share\", \n",
    "                                        \"pit_unshelt_pit_hud_share\",\n",
    "                                        \"pit_hless_pit_hud_share\",\n",
    "                                        \"missing\"]\n",
    "                                        \n",
    "  secondary_outcomes = list(dataset.keys())[5:14] + list(dataset.keys())[17:22]\n",
    "\n",
    "  # ISOLATE TRAINING FEATURES FROM TOTAL DATASET\n",
    "  features_df = dataset.drop([\"year\", \"cocnumber\", \"coctag\", \"panelvar\", \"state_abr\"] + outcomes + secondary_outcomes, axis=1, inplace=False)\n",
    "\n",
    "  # CREATE DATAFRAME OF ALL OUTCOME VARIABLE DATA\n",
    "  possible_outcomes_df = dataset[outcomes + secondary_outcomes]\n",
    "\n",
    "  # IDENTIFY (AND DROP) FEATURES WITH MANY NAN VALUES\n",
    "  NaN_features = []\n",
    "\n",
    "  for key in features_df.keys():\n",
    "    if features_df[key].isna().sum() > 300:\n",
    "      NaN_features.append(key)\n",
    "\n",
    "  features_df.drop(NaN_features, axis=1, inplace=True)\n",
    "\n",
    "  # FILL IN THE FEW REMAINING NAN VALUES WITH COLUMN-WISE AVERAGE\n",
    "  for key in features_df.keys():\n",
    "    # print(key)\n",
    "    features_df[key].fillna(value=round(features_df[key].mean()), inplace=True)\n",
    "\n",
    "  # ADDING OUTCOME VAR TO THE END OF THE DATASET\n",
    "  features_df[outcome_var] = possible_outcomes_df[outcome_var]\n",
    "\n",
    "  # DROP THE NAN VALUES THAT ARE PRESENT IN THE OUTCOME VAR\n",
    "  final_df = features_df.dropna()\n",
    "  print(final_df.shape)\n",
    "\n",
    "  return final_df\n"
   ]
  },
  {
   "cell_type": "code",
   "execution_count": null,
   "metadata": {
    "id": "o-eBfYesdFuf"
   },
   "outputs": [],
   "source": [
    "def get_train_test_data(data):\n",
    "\n",
    "  X = data.iloc[:, :-1].values\n",
    "  y = data.iloc[:, -1].values\n",
    "  #I just wrote this assuming we're using the last variable for the predicted variable but we can change it accordingly\n",
    "\n",
    "  from sklearn.model_selection import train_test_split\n",
    "  X_train, X_test, y_train, y_test = train_test_split(X, y, test_size = 0.25, random_state = 6)\n",
    "\n",
    "  from sklearn.preprocessing import StandardScaler\n",
    "  sc = StandardScaler()\n",
    "  X_train = sc.fit_transform(X_train)\n",
    "  X_test = sc.transform(X_test)\n",
    "\n",
    "  return X_train, X_test, y_train, y_test"
   ]
  },
  {
   "cell_type": "code",
   "execution_count": null,
   "metadata": {
    "id": "dGkYTdyYMcRM"
   },
   "outputs": [],
   "source": [
    "# function for training and testing different models\n",
    "\n",
    "def train_and_test_func(X_train, X_test, y_train, y_test, graph_title):\n",
    "\n",
    "  from sklearn.linear_model import LinearRegression, ElasticNet, Ridge, Lasso, BayesianRidge\n",
    "  import matplotlib.pyplot as plt\n",
    "\n",
    "  models = []\n",
    "  scores = []\n",
    "\n",
    "  print(\"Model:\".ljust(20), \"R2 Score:\")\n",
    "  print()\n",
    "\n",
    "  lr = LinearRegression()\n",
    "  lr.fit(X_train, y_train)\n",
    "  print(\"Linear Regression:\".ljust(20), lr.score(X_test, y_test))\n",
    "  models.append(\"Linear Regression\")\n",
    "  scores.append(round(lr.score(X_test, y_test), 3))\n",
    "\n",
    "  en = ElasticNet()\n",
    "  en.fit(X_train, y_train)\n",
    "  print(\"ElasticNet:\".ljust(20), en.score(X_test, y_test))\n",
    "  models.append(\"ElasticNet\")\n",
    "  scores.append(round(en.score(X_test, y_test), 3))\n",
    "\n",
    "  rd = Ridge()\n",
    "  rd.fit(X_train, y_train)\n",
    "  print(\"Ridge:\".ljust(20), rd.score(X_test, y_test))\n",
    "  models.append(\"Ridge\")\n",
    "  scores.append(round(rd.score(X_test, y_test), 3))\n",
    "\n",
    "  ls = Lasso()\n",
    "  ls.fit(X_train, y_train)\n",
    "  print(\"Lasso:\".ljust(20), ls.score(X_test, y_test))\n",
    "  models.append(\"Lasso\")\n",
    "  scores.append(round(ls.score(X_test, y_test), 3))\n",
    "\n",
    "  br = BayesianRidge()\n",
    "  br.fit(X_train, y_train)\n",
    "  print(\"Bayesian Ridge:\".ljust(20), br.score(X_test, y_test))\n",
    "  models.append(\"Bayesian Ridge\")\n",
    "  scores.append(round(br.score(X_test, y_test), 3))\n",
    "\n",
    "  #---\n",
    "\n",
    "  # y_pos = np.arange(len(models))\n",
    "\n",
    "  # plt.bar(y_pos, scores, align='center', alpha=0.5)\n",
    "  # # add_value_label(models, scores)\n",
    "  # plt.xticks(y_pos, models)\n",
    "  # plt.ylabel('R2 Score')\n",
    "  # plt.title(f\"Performance on: {graph_title}\")\n",
    "\n",
    "  # plt.ylim(0,1)\n",
    "  # plt.xticks(rotation=30, ha='center')\n",
    "\n",
    "  # plt.show()\n",
    "\n",
    "  print()\n",
    "  return scores"
   ]
  },
  {
   "cell_type": "markdown",
   "metadata": {
    "id": "s90ZdhYVXfY2"
   },
   "source": [
    "# MODEL EXPERIMENTATION"
   ]
  },
  {
   "cell_type": "code",
   "execution_count": null,
   "metadata": {
    "colab": {
     "base_uri": "https://localhost:8080/"
    },
    "id": "r_0y-I4BDR5R",
    "outputId": "93e73345-e3d6-417c-852e-8850747391d8"
   },
   "outputs": [
    {
     "name": "stdout",
     "output_type": "stream",
     "text": [
      "Key:                                NaN Count\n",
      "\n",
      "pit_tot_shelt_pit_hud               14\n",
      "pit_tot_unshelt_pit_hud             14\n",
      "pit_tot_hless_pit_hud               14\n",
      "pit_miss                            0\n",
      "odd_flag                            0\n",
      "pit_hless_balance                   0\n",
      "pit_shelt_balance                   0\n",
      "pit_unshelt_balance                 0\n",
      "unbalance_flag                      0\n",
      "pit_shelt_pit_hud_share             14\n",
      "pit_unshelt_pit_hud_share           14\n",
      "pit_hless_pit_hud_share             14\n",
      "missing                             0\n",
      "pit_ind_shelt_pit_hud               14\n",
      "pit_ind_unshelt_pit_hud             14\n",
      "pit_ind_hless_pit_hud               14\n",
      "pit_perfam_shelt_pit_hud            14\n",
      "pit_perfam_unshelt_pit_hud          14\n",
      "pit_perfam_hless_pit_hud            14\n",
      "pit_ind_chronic_hless_pit_hud       14\n",
      "pit_perfam_chronic_hless_pit_hud    1137\n",
      "pit_vet_hless_pit_hud               387\n",
      "hou_pol_totalind_hud                2259\n",
      "hou_pol_totalday_hud                2259\n",
      "hou_pol_totalexit_hud               2259\n",
      "hou_pol_numret6mos_hud              2259\n",
      "hou_pol_numret12mos_hud             2259\n"
     ]
    }
   ],
   "source": [
    "# PRINT NAN COUNT FOR EACH OF THE POSSIBLE OUTCOME VARIABLES\n",
    "\n",
    "outcomes = list(dataset.keys())[2:5] + [\"pit_miss\", \n",
    "                                      \"odd_flag\", \n",
    "                                      \"pit_hless_balance\", \n",
    "                                      \"pit_shelt_balance\", \n",
    "                                      \"pit_unshelt_balance\", \n",
    "                                      \"unbalance_flag\", \n",
    "                                      \"pit_shelt_pit_hud_share\", \n",
    "                                      \"pit_unshelt_pit_hud_share\",\n",
    "                                      \"pit_hless_pit_hud_share\",\n",
    "                                      \"missing\"]\n",
    "                                      \n",
    "secondary_outcomes = list(dataset.keys())[5:14] + list(dataset.keys())[17:22]\n",
    "\n",
    "possible_outcomes_df = dataset[outcomes + secondary_outcomes]\n",
    "\n",
    "#--\n",
    "print(\"Key:\".ljust(35), \"NaN Count\")\n",
    "print()\n",
    "\n",
    "for key in possible_outcomes_df.keys():\n",
    "  print(key.ljust(35), possible_outcomes_df[key].isna().sum())\n"
   ]
  },
  {
   "cell_type": "code",
   "execution_count": null,
   "metadata": {
    "colab": {
     "base_uri": "https://localhost:8080/",
     "height": 915
    },
    "id": "PKuO6-D0SQwA",
    "outputId": "10c95a11-4666-4399-ed2f-a94325640d02"
   },
   "outputs": [
    {
     "name": "stdout",
     "output_type": "stream",
     "text": [
      "(2994, 190)\n",
      "Model:               R2 Score:\n",
      "\n",
      "Linear Regression:   0.9899263638982593\n",
      "ElasticNet:          0.9640001079830204\n",
      "Ridge:               0.9899883673750962\n"
     ]
    },
    {
     "name": "stderr",
     "output_type": "stream",
     "text": [
      "/usr/local/lib/python3.7/dist-packages/sklearn/linear_model/_coordinate_descent.py:648: ConvergenceWarning: Objective did not converge. You might want to increase the number of iterations, check the scale of the features or consider increasing regularisation. Duality gap: 3.869e+06, tolerance: 2.361e+06\n",
      "  coef_, l1_reg, l2_reg, X, y, max_iter, tol, rng, random, positive\n"
     ]
    },
    {
     "name": "stdout",
     "output_type": "stream",
     "text": [
      "Lasso:               0.9900745452152064\n",
      "Bayesian Ridge:      0.9899824187506459\n",
      "\n",
      "(2994, 190)\n",
      "Model:               R2 Score:\n",
      "\n",
      "Linear Regression:   0.8274848597311554\n",
      "ElasticNet:          0.7050886023202613\n",
      "Ridge:               0.8130233574301412\n"
     ]
    },
    {
     "name": "stderr",
     "output_type": "stream",
     "text": [
      "/usr/local/lib/python3.7/dist-packages/sklearn/linear_model/_coordinate_descent.py:648: ConvergenceWarning: Objective did not converge. You might want to increase the number of iterations, check the scale of the features or consider increasing regularisation. Duality gap: 8.308e+07, tolerance: 6.747e+05\n",
      "  coef_, l1_reg, l2_reg, X, y, max_iter, tol, rng, random, positive\n"
     ]
    },
    {
     "name": "stdout",
     "output_type": "stream",
     "text": [
      "Lasso:               0.8119341350871482\n",
      "Bayesian Ridge:      0.8054330239788843\n",
      "\n",
      "(2994, 190)\n",
      "Model:               R2 Score:\n",
      "\n",
      "Linear Regression:   0.97348827352747\n",
      "ElasticNet:          0.9455920230172994\n",
      "Ridge:               0.9711179607149042\n"
     ]
    },
    {
     "name": "stderr",
     "output_type": "stream",
     "text": [
      "/usr/local/lib/python3.7/dist-packages/sklearn/linear_model/_coordinate_descent.py:648: ConvergenceWarning: Objective did not converge. You might want to increase the number of iterations, check the scale of the features or consider increasing regularisation. Duality gap: 1.944e+08, tolerance: 3.838e+06\n",
      "  coef_, l1_reg, l2_reg, X, y, max_iter, tol, rng, random, positive\n"
     ]
    },
    {
     "name": "stdout",
     "output_type": "stream",
     "text": [
      "Lasso:               0.9703609458532152\n",
      "Bayesian Ridge:      0.9697135897530513\n",
      "\n"
     ]
    },
    {
     "data": {
      "image/png": "[encoded data removed]",
      "text/plain": [
       "<Figure size 432x288 with 1 Axes>"
      ]
     },
     "metadata": {
      "needs_background": "light"
     },
     "output_type": "display_data"
    }
   ],
   "source": [
    "import matplotlib.pyplot as plt\n",
    "\n",
    "models = [\"Linear Regression\", \"ElasticNet\", \"Ridge\", \"Lasso\", \"Bayesian Ridge\"]\n",
    "x = np.arange(len(models))\n",
    "width = 0.2\n",
    "\n",
    "# GENERATE DATA BASED ON OUTCOME VARIABLE\n",
    "DATA = generate_data(outcome_var = \"pit_tot_shelt_pit_hud\") # ths outcome variable can be adjusted to whatever we want\n",
    "X_train, X_test, y_train, y_test = get_train_test_data(DATA)\n",
    "scores = train_and_test_func(X_train, X_test, y_train, y_test, \"Sheltered Homeless per 10,000\")\n",
    "\n",
    "plt.bar(x-0.2, scores, width, color='darkgoldenrod')\n",
    "\n",
    "# GENERATE DATA BASED ON OUTCOME VARIABLE\n",
    "DATA = generate_data(outcome_var = \"pit_tot_unshelt_pit_hud\") # ths outcome variable can be adjusted to whatever we want\n",
    "X_train, X_test, y_train, y_test = get_train_test_data(DATA)\n",
    "scores = train_and_test_func(X_train, X_test, y_train, y_test, \"Unsheltered Homeless per 10,000\")\n",
    "\n",
    "plt.bar(x, scores, width, color='gold')\n",
    "\n",
    "\n",
    "# GENERATE DATA BASED ON OUTCOME VARIABLE\n",
    "DATA = generate_data(outcome_var = \"pit_tot_hless_pit_hud\") # ths outcome variable can be adjusted to whatever we want\n",
    "X_train, X_test, y_train, y_test = get_train_test_data(DATA)\n",
    "scores = train_and_test_func(X_train, X_test, y_train, y_test, \"Total Homeless per 10,000\")\n",
    "\n",
    "plt.bar(x+0.2, scores, width, color='darkorange')\n",
    "\n",
    "plt.xticks(x, models)\n",
    "plt.xticks(rotation=30, ha=\"center\")\n",
    "plt.xlabel(\"Regression Models\")\n",
    "plt.ylabel(\"R2 Scores\")\n",
    "plt.legend([\"Sheltered Homeless Rate\", \"Unsheltered Homeless Rate\", \"Total Homeless Rate\"], bbox_to_anchor=(1.02, 0.75), loc=\"lower left\", borderaxespad=0)\n",
    "\n",
    "plt.show()\n",
    "\n"
   ]
  },
  {
   "cell_type": "code",
   "execution_count": null,
   "metadata": {
    "colab": {
     "base_uri": "https://localhost:8080/"
    },
    "id": "yFbJVi59alhN",
    "outputId": "3d516714-d30c-4ecb-bb68-a79efa2773b5"
   },
   "outputs": [
    {
     "name": "stdout",
     "output_type": "stream",
     "text": [
      "(2994, 190)\n"
     ]
    },
    {
     "data": {
      "text/plain": [
       "LinearRegression()"
      ]
     },
     "execution_count": 9,
     "metadata": {},
     "output_type": "execute_result"
    }
   ],
   "source": [
    "from sklearn.linear_model import LinearRegression\n",
    "\n",
    "DATA = generate_data(outcome_var = \"pit_tot_shelt_pit_hud\") # ths outcome variable can be adjusted to whatever we want\n",
    "X_train, X_test, y_train, y_test = get_train_test_data(DATA)\n",
    "\n",
    "lr = LinearRegression()\n",
    "lr.fit(X_train, y_train)\n",
    "\n"
   ]
  },
  {
   "cell_type": "code",
   "execution_count": null,
   "metadata": {
    "id": "mbkUu6nIa9rD"
   },
   "outputs": [],
   "source": [
    "sorted(zip(np.abs(lr.coef_), DATA.keys()), reverse=True)"
   ]
  },
  {
   "cell_type": "code",
   "execution_count": null,
   "metadata": {
    "colab": {
     "base_uri": "https://localhost:8080/",
     "height": 2286
    },
    "id": "Ymz4XuIebQ8U",
    "outputId": "a1d6dd84-3d93-4ef6-c495-69da61ff66e9"
   },
   "outputs": [
    {
     "data": {
      "text/html": [
       "\n",
       "  <div id=\"df-35f046ae-d171-4d6b-920c-5fb2b337370c\">\n",
       "    <div class=\"colab-df-container\">\n",
       "      <div>\n",
       "<style scoped>\n",
       "    .dataframe tbody tr th:only-of-type {\n",
       "        vertical-align: middle;\n",
       "    }\n",
       "\n",
       "    .dataframe tbody tr th {\n",
       "        vertical-align: top;\n",
       "    }\n",
       "\n",
       "    .dataframe thead th {\n",
       "        text-align: right;\n",
       "    }\n",
       "</style>\n",
       "<table border=\"1\" class=\"dataframe\">\n",
       "  <thead>\n",
       "    <tr style=\"text-align: right;\">\n",
       "      <th></th>\n",
       "      <th>year</th>\n",
       "      <th>cocnumber</th>\n",
       "      <th>pit_tot_shelt_pit_hud</th>\n",
       "      <th>pit_tot_unshelt_pit_hud</th>\n",
       "      <th>pit_tot_hless_pit_hud</th>\n",
       "      <th>pit_ind_shelt_pit_hud</th>\n",
       "      <th>pit_ind_unshelt_pit_hud</th>\n",
       "      <th>pit_ind_hless_pit_hud</th>\n",
       "      <th>pit_perfam_shelt_pit_hud</th>\n",
       "      <th>pit_perfam_unshelt_pit_hud</th>\n",
       "      <th>...</th>\n",
       "      <th>sub_high_cost_rent75</th>\n",
       "      <th>sub_high_cost_homeval75</th>\n",
       "      <th>sub_high_rent_share75</th>\n",
       "      <th>tight_high_cost_rental_mkt</th>\n",
       "      <th>sub_tight_high_cost_rent</th>\n",
       "      <th>sub_west_coast_all_urb</th>\n",
       "      <th>sub_west_census</th>\n",
       "      <th>major_city</th>\n",
       "      <th>suburban</th>\n",
       "      <th>rural</th>\n",
       "    </tr>\n",
       "  </thead>\n",
       "  <tbody>\n",
       "    <tr>\n",
       "      <th>0</th>\n",
       "      <td>2010</td>\n",
       "      <td>AK-500</td>\n",
       "      <td>1113.0</td>\n",
       "      <td>118.0</td>\n",
       "      <td>1231.0</td>\n",
       "      <td>633.0</td>\n",
       "      <td>107.0</td>\n",
       "      <td>740.0</td>\n",
       "      <td>480.0</td>\n",
       "      <td>11.0</td>\n",
       "      <td>...</td>\n",
       "      <td>1</td>\n",
       "      <td>1</td>\n",
       "      <td>1</td>\n",
       "      <td>3</td>\n",
       "      <td>1</td>\n",
       "      <td>1</td>\n",
       "      <td>1</td>\n",
       "      <td>1</td>\n",
       "      <td>0</td>\n",
       "      <td>0</td>\n",
       "    </tr>\n",
       "    <tr>\n",
       "      <th>1</th>\n",
       "      <td>2011</td>\n",
       "      <td>AK-500</td>\n",
       "      <td>1082.0</td>\n",
       "      <td>141.0</td>\n",
       "      <td>1223.0</td>\n",
       "      <td>677.0</td>\n",
       "      <td>117.0</td>\n",
       "      <td>794.0</td>\n",
       "      <td>405.0</td>\n",
       "      <td>24.0</td>\n",
       "      <td>...</td>\n",
       "      <td>1</td>\n",
       "      <td>1</td>\n",
       "      <td>0</td>\n",
       "      <td>3</td>\n",
       "      <td>1</td>\n",
       "      <td>1</td>\n",
       "      <td>1</td>\n",
       "      <td>1</td>\n",
       "      <td>0</td>\n",
       "      <td>0</td>\n",
       "    </tr>\n",
       "    <tr>\n",
       "      <th>2</th>\n",
       "      <td>2012</td>\n",
       "      <td>AK-500</td>\n",
       "      <td>1097.0</td>\n",
       "      <td>50.0</td>\n",
       "      <td>1147.0</td>\n",
       "      <td>756.0</td>\n",
       "      <td>35.0</td>\n",
       "      <td>791.0</td>\n",
       "      <td>341.0</td>\n",
       "      <td>15.0</td>\n",
       "      <td>...</td>\n",
       "      <td>1</td>\n",
       "      <td>1</td>\n",
       "      <td>1</td>\n",
       "      <td>3</td>\n",
       "      <td>1</td>\n",
       "      <td>1</td>\n",
       "      <td>1</td>\n",
       "      <td>1</td>\n",
       "      <td>0</td>\n",
       "      <td>0</td>\n",
       "    </tr>\n",
       "    <tr>\n",
       "      <th>3</th>\n",
       "      <td>2013</td>\n",
       "      <td>AK-500</td>\n",
       "      <td>1070.0</td>\n",
       "      <td>52.0</td>\n",
       "      <td>1122.0</td>\n",
       "      <td>792.0</td>\n",
       "      <td>52.0</td>\n",
       "      <td>844.0</td>\n",
       "      <td>278.0</td>\n",
       "      <td>0.0</td>\n",
       "      <td>...</td>\n",
       "      <td>1</td>\n",
       "      <td>1</td>\n",
       "      <td>0</td>\n",
       "      <td>3</td>\n",
       "      <td>1</td>\n",
       "      <td>1</td>\n",
       "      <td>1</td>\n",
       "      <td>1</td>\n",
       "      <td>0</td>\n",
       "      <td>0</td>\n",
       "    </tr>\n",
       "    <tr>\n",
       "      <th>4</th>\n",
       "      <td>2014</td>\n",
       "      <td>AK-500</td>\n",
       "      <td>970.0</td>\n",
       "      <td>53.0</td>\n",
       "      <td>1023.0</td>\n",
       "      <td>688.0</td>\n",
       "      <td>48.0</td>\n",
       "      <td>736.0</td>\n",
       "      <td>282.0</td>\n",
       "      <td>5.0</td>\n",
       "      <td>...</td>\n",
       "      <td>1</td>\n",
       "      <td>1</td>\n",
       "      <td>1</td>\n",
       "      <td>3</td>\n",
       "      <td>1</td>\n",
       "      <td>1</td>\n",
       "      <td>1</td>\n",
       "      <td>1</td>\n",
       "      <td>0</td>\n",
       "      <td>0</td>\n",
       "    </tr>\n",
       "    <tr>\n",
       "      <th>...</th>\n",
       "      <td>...</td>\n",
       "      <td>...</td>\n",
       "      <td>...</td>\n",
       "      <td>...</td>\n",
       "      <td>...</td>\n",
       "      <td>...</td>\n",
       "      <td>...</td>\n",
       "      <td>...</td>\n",
       "      <td>...</td>\n",
       "      <td>...</td>\n",
       "      <td>...</td>\n",
       "      <td>...</td>\n",
       "      <td>...</td>\n",
       "      <td>...</td>\n",
       "      <td>...</td>\n",
       "      <td>...</td>\n",
       "      <td>...</td>\n",
       "      <td>...</td>\n",
       "      <td>...</td>\n",
       "      <td>...</td>\n",
       "      <td>...</td>\n",
       "    </tr>\n",
       "    <tr>\n",
       "      <th>3003</th>\n",
       "      <td>2013</td>\n",
       "      <td>WY-500</td>\n",
       "      <td>501.0</td>\n",
       "      <td>452.0</td>\n",
       "      <td>953.0</td>\n",
       "      <td>306.0</td>\n",
       "      <td>371.0</td>\n",
       "      <td>677.0</td>\n",
       "      <td>195.0</td>\n",
       "      <td>81.0</td>\n",
       "      <td>...</td>\n",
       "      <td>0</td>\n",
       "      <td>0</td>\n",
       "      <td>0</td>\n",
       "      <td>0</td>\n",
       "      <td>0</td>\n",
       "      <td>0</td>\n",
       "      <td>1</td>\n",
       "      <td>0</td>\n",
       "      <td>0</td>\n",
       "      <td>1</td>\n",
       "    </tr>\n",
       "    <tr>\n",
       "      <th>3004</th>\n",
       "      <td>2014</td>\n",
       "      <td>WY-500</td>\n",
       "      <td>563.0</td>\n",
       "      <td>194.0</td>\n",
       "      <td>757.0</td>\n",
       "      <td>327.0</td>\n",
       "      <td>136.0</td>\n",
       "      <td>463.0</td>\n",
       "      <td>236.0</td>\n",
       "      <td>58.0</td>\n",
       "      <td>...</td>\n",
       "      <td>1</td>\n",
       "      <td>1</td>\n",
       "      <td>1</td>\n",
       "      <td>3</td>\n",
       "      <td>1</td>\n",
       "      <td>0</td>\n",
       "      <td>1</td>\n",
       "      <td>0</td>\n",
       "      <td>0</td>\n",
       "      <td>1</td>\n",
       "    </tr>\n",
       "    <tr>\n",
       "      <th>3005</th>\n",
       "      <td>2015</td>\n",
       "      <td>WY-500</td>\n",
       "      <td>507.0</td>\n",
       "      <td>291.0</td>\n",
       "      <td>798.0</td>\n",
       "      <td>292.0</td>\n",
       "      <td>208.0</td>\n",
       "      <td>500.0</td>\n",
       "      <td>215.0</td>\n",
       "      <td>83.0</td>\n",
       "      <td>...</td>\n",
       "      <td>0</td>\n",
       "      <td>0</td>\n",
       "      <td>0</td>\n",
       "      <td>0</td>\n",
       "      <td>0</td>\n",
       "      <td>0</td>\n",
       "      <td>1</td>\n",
       "      <td>0</td>\n",
       "      <td>0</td>\n",
       "      <td>1</td>\n",
       "    </tr>\n",
       "    <tr>\n",
       "      <th>3006</th>\n",
       "      <td>2016</td>\n",
       "      <td>WY-500</td>\n",
       "      <td>491.0</td>\n",
       "      <td>366.0</td>\n",
       "      <td>857.0</td>\n",
       "      <td>277.0</td>\n",
       "      <td>240.0</td>\n",
       "      <td>517.0</td>\n",
       "      <td>214.0</td>\n",
       "      <td>126.0</td>\n",
       "      <td>...</td>\n",
       "      <td>1</td>\n",
       "      <td>1</td>\n",
       "      <td>1</td>\n",
       "      <td>3</td>\n",
       "      <td>1</td>\n",
       "      <td>0</td>\n",
       "      <td>1</td>\n",
       "      <td>0</td>\n",
       "      <td>0</td>\n",
       "      <td>1</td>\n",
       "    </tr>\n",
       "    <tr>\n",
       "      <th>3007</th>\n",
       "      <td>2017</td>\n",
       "      <td>WY-500</td>\n",
       "      <td>510.0</td>\n",
       "      <td>363.0</td>\n",
       "      <td>873.0</td>\n",
       "      <td>383.0</td>\n",
       "      <td>239.0</td>\n",
       "      <td>622.0</td>\n",
       "      <td>127.0</td>\n",
       "      <td>124.0</td>\n",
       "      <td>...</td>\n",
       "      <td>0</td>\n",
       "      <td>0</td>\n",
       "      <td>0</td>\n",
       "      <td>0</td>\n",
       "      <td>0</td>\n",
       "      <td>0</td>\n",
       "      <td>1</td>\n",
       "      <td>0</td>\n",
       "      <td>0</td>\n",
       "      <td>1</td>\n",
       "    </tr>\n",
       "  </tbody>\n",
       "</table>\n",
       "<p>3008 rows × 332 columns</p>\n",
       "</div>\n",
       "      <button class=\"colab-df-convert\" onclick=\"convertToInteractive('df-35f046ae-d171-4d6b-920c-5fb2b337370c')\"\n",
       "              title=\"Convert this dataframe to an interactive table.\"\n",
       "              style=\"display:none;\">\n",
       "        \n",
       "  <svg xmlns=\"http://www.w3.org/2000/svg\" height=\"24px\"viewBox=\"0 0 24 24\"\n",
       "       width=\"24px\">\n",
       "    <path d=\"M0 0h24v24H0V0z\" fill=\"none\"/>\n",
       "    <path d=\"M18.56 5.44l.94 2.06.94-2.06 2.06-.94-2.06-.94-.94-2.06-.94 2.06-2.06.94zm-11 1L8.5 8.5l.94-2.06 2.06-.94-2.06-.94L8.5 2.5l-.94 2.06-2.06.94zm10 10l.94 2.06.94-2.06 2.06-.94-2.06-.94-.94-2.06-.94 2.06-2.06.94z\"/><path d=\"M17.41 7.96l-1.37-1.37c-.4-.4-.92-.59-1.43-.59-.52 0-1.04.2-1.43.59L10.3 9.45l-7.72 7.72c-.78.78-.78 2.05 0 2.83L4 21.41c.39.39.9.59 1.41.59.51 0 1.02-.2 1.41-.59l7.78-7.78 2.81-2.81c.8-.78.8-2.07 0-2.86zM5.41 20L4 18.59l7.72-7.72 1.47 1.35L5.41 20z\"/>\n",
       "  </svg>\n",
       "      </button>\n",
       "      \n",
       "  <style>\n",
       "    .colab-df-container {\n",
       "      display:flex;\n",
       "      flex-wrap:wrap;\n",
       "      gap: 12px;\n",
       "    }\n",
       "\n",
       "    .colab-df-convert {\n",
       "      background-color: #E8F0FE;\n",
       "      border: none;\n",
       "      border-radius: 50%;\n",
       "      cursor: pointer;\n",
       "      display: none;\n",
       "      fill: #1967D2;\n",
       "      height: 32px;\n",
       "      padding: 0 0 0 0;\n",
       "      width: 32px;\n",
       "    }\n",
       "\n",
       "    .colab-df-convert:hover {\n",
       "      background-color: #E2EBFA;\n",
       "      box-shadow: 0px 1px 2px rgba(60, 64, 67, 0.3), 0px 1px 3px 1px rgba(60, 64, 67, 0.15);\n",
       "      fill: #174EA6;\n",
       "    }\n",
       "\n",
       "    [theme=dark] .colab-df-convert {\n",
       "      background-color: #3B4455;\n",
       "      fill: #D2E3FC;\n",
       "    }\n",
       "\n",
       "    [theme=dark] .colab-df-convert:hover {\n",
       "      background-color: #434B5C;\n",
       "      box-shadow: 0px 1px 3px 1px rgba(0, 0, 0, 0.15);\n",
       "      filter: drop-shadow(0px 1px 2px rgba(0, 0, 0, 0.3));\n",
       "      fill: #FFFFFF;\n",
       "    }\n",
       "  </style>\n",
       "\n",
       "      <script>\n",
       "        const buttonEl =\n",
       "          document.querySelector('#df-35f046ae-d171-4d6b-920c-5fb2b337370c button.colab-df-convert');\n",
       "        buttonEl.style.display =\n",
       "          google.colab.kernel.accessAllowed ? 'block' : 'none';\n",
       "\n",
       "        async function convertToInteractive(key) {\n",
       "          const element = document.querySelector('#df-35f046ae-d171-4d6b-920c-5fb2b337370c');\n",
       "          const dataTable =\n",
       "            await google.colab.kernel.invokeFunction('convertToInteractive',\n",
       "                                                     [key], {});\n",
       "          if (!dataTable) return;\n",
       "\n",
       "          const docLinkHtml = 'Like what you see? Visit the ' +\n",
       "            '<a target=\"_blank\" href=https://colab.research.google.com/notebooks/data_table.ipynb>data table notebook</a>'\n",
       "            + ' to learn more about interactive tables.';\n",
       "          element.innerHTML = '';\n",
       "          dataTable['output_type'] = 'display_data';\n",
       "          await google.colab.output.renderOutput(dataTable, element);\n",
       "          const docLink = document.createElement('div');\n",
       "          docLink.innerHTML = docLinkHtml;\n",
       "          element.appendChild(docLink);\n",
       "        }\n",
       "      </script>\n",
       "    </div>\n",
       "  </div>\n",
       "  "
      ],
      "text/plain": [
       "      year cocnumber  pit_tot_shelt_pit_hud  pit_tot_unshelt_pit_hud  \\\n",
       "0     2010    AK-500                 1113.0                    118.0   \n",
       "1     2011    AK-500                 1082.0                    141.0   \n",
       "2     2012    AK-500                 1097.0                     50.0   \n",
       "3     2013    AK-500                 1070.0                     52.0   \n",
       "4     2014    AK-500                  970.0                     53.0   \n",
       "...    ...       ...                    ...                      ...   \n",
       "3003  2013    WY-500                  501.0                    452.0   \n",
       "3004  2014    WY-500                  563.0                    194.0   \n",
       "3005  2015    WY-500                  507.0                    291.0   \n",
       "3006  2016    WY-500                  491.0                    366.0   \n",
       "3007  2017    WY-500                  510.0                    363.0   \n",
       "\n",
       "      pit_tot_hless_pit_hud  pit_ind_shelt_pit_hud  pit_ind_unshelt_pit_hud  \\\n",
       "0                    1231.0                  633.0                    107.0   \n",
       "1                    1223.0                  677.0                    117.0   \n",
       "2                    1147.0                  756.0                     35.0   \n",
       "3                    1122.0                  792.0                     52.0   \n",
       "4                    1023.0                  688.0                     48.0   \n",
       "...                     ...                    ...                      ...   \n",
       "3003                  953.0                  306.0                    371.0   \n",
       "3004                  757.0                  327.0                    136.0   \n",
       "3005                  798.0                  292.0                    208.0   \n",
       "3006                  857.0                  277.0                    240.0   \n",
       "3007                  873.0                  383.0                    239.0   \n",
       "\n",
       "      pit_ind_hless_pit_hud  pit_perfam_shelt_pit_hud  \\\n",
       "0                     740.0                     480.0   \n",
       "1                     794.0                     405.0   \n",
       "2                     791.0                     341.0   \n",
       "3                     844.0                     278.0   \n",
       "4                     736.0                     282.0   \n",
       "...                     ...                       ...   \n",
       "3003                  677.0                     195.0   \n",
       "3004                  463.0                     236.0   \n",
       "3005                  500.0                     215.0   \n",
       "3006                  517.0                     214.0   \n",
       "3007                  622.0                     127.0   \n",
       "\n",
       "      pit_perfam_unshelt_pit_hud  ...  sub_high_cost_rent75  \\\n",
       "0                           11.0  ...                     1   \n",
       "1                           24.0  ...                     1   \n",
       "2                           15.0  ...                     1   \n",
       "3                            0.0  ...                     1   \n",
       "4                            5.0  ...                     1   \n",
       "...                          ...  ...                   ...   \n",
       "3003                        81.0  ...                     0   \n",
       "3004                        58.0  ...                     1   \n",
       "3005                        83.0  ...                     0   \n",
       "3006                       126.0  ...                     1   \n",
       "3007                       124.0  ...                     0   \n",
       "\n",
       "      sub_high_cost_homeval75  sub_high_rent_share75  \\\n",
       "0                           1                      1   \n",
       "1                           1                      0   \n",
       "2                           1                      1   \n",
       "3                           1                      0   \n",
       "4                           1                      1   \n",
       "...                       ...                    ...   \n",
       "3003                        0                      0   \n",
       "3004                        1                      1   \n",
       "3005                        0                      0   \n",
       "3006                        1                      1   \n",
       "3007                        0                      0   \n",
       "\n",
       "      tight_high_cost_rental_mkt  sub_tight_high_cost_rent  \\\n",
       "0                              3                         1   \n",
       "1                              3                         1   \n",
       "2                              3                         1   \n",
       "3                              3                         1   \n",
       "4                              3                         1   \n",
       "...                          ...                       ...   \n",
       "3003                           0                         0   \n",
       "3004                           3                         1   \n",
       "3005                           0                         0   \n",
       "3006                           3                         1   \n",
       "3007                           0                         0   \n",
       "\n",
       "      sub_west_coast_all_urb  sub_west_census  major_city  suburban  rural  \n",
       "0                          1                1           1         0      0  \n",
       "1                          1                1           1         0      0  \n",
       "2                          1                1           1         0      0  \n",
       "3                          1                1           1         0      0  \n",
       "4                          1                1           1         0      0  \n",
       "...                      ...              ...         ...       ...    ...  \n",
       "3003                       0                1           0         0      1  \n",
       "3004                       0                1           0         0      1  \n",
       "3005                       0                1           0         0      1  \n",
       "3006                       0                1           0         0      1  \n",
       "3007                       0                1           0         0      1  \n",
       "\n",
       "[3008 rows x 332 columns]"
      ]
     },
     "execution_count": 18,
     "metadata": {},
     "output_type": "execute_result"
    },
    {
     "name": "stdout",
     "output_type": "stream",
     "text": [
      "Warning: Total number of columns (332) exceeds max_columns (20) limiting to first (20) columns.\n"
     ]
    }
   ],
   "source": [
    "dataset"
   ]
  },
  {
   "cell_type": "markdown",
   "metadata": {
    "id": "nIOyY4sZTWlW"
   },
   "source": [
    "# Code Graveyard"
   ]
  },
  {
   "cell_type": "code",
   "execution_count": null,
   "metadata": {
    "colab": {
     "base_uri": "https://localhost:8080/"
    },
    "id": "EQJqhHCGflrk",
    "outputId": "a5182bf6-385a-47c9-b064-4767f4e86e8d"
   },
   "outputs": [
    {
     "name": "stdout",
     "output_type": "stream",
     "text": [
      "['pit_tot_shelt_pit_hud', 'pit_tot_unshelt_pit_hud', 'pit_tot_hless_pit_hud', 'pit_miss', 'odd_flag', 'pit_hless_balance', 'pit_shelt_balance', 'pit_unshelt_balance', 'unbalance_flag', 'pit_shelt_pit_hud_share', 'pit_unshelt_pit_hud_share', 'pit_hless_pit_hud_share', 'missing']\n",
      "['pit_ind_shelt_pit_hud', 'pit_ind_unshelt_pit_hud', 'pit_ind_hless_pit_hud', 'pit_perfam_shelt_pit_hud', 'pit_perfam_unshelt_pit_hud', 'pit_perfam_hless_pit_hud', 'pit_ind_chronic_hless_pit_hud', 'pit_perfam_chronic_hless_pit_hud', 'pit_vet_hless_pit_hud', 'hou_pol_totalind_hud', 'hou_pol_totalday_hud', 'hou_pol_totalexit_hud', 'hou_pol_numret6mos_hud', 'hou_pol_numret12mos_hud']\n"
     ]
    }
   ],
   "source": [
    "# options for our predicted variables\n",
    "outcomes = list(dataset.keys())[2:5] + [\"pit_miss\", \n",
    "                                        \"odd_flag\", \n",
    "                                        \"pit_hless_balance\", \n",
    "                                        \"pit_shelt_balance\", \n",
    "                                        \"pit_unshelt_balance\", \n",
    "                                        \"unbalance_flag\", \n",
    "                                        \"pit_shelt_pit_hud_share\", \n",
    "                                        \"pit_unshelt_pit_hud_share\",\n",
    "                                        \"pit_hless_pit_hud_share\",\n",
    "                                        \"missing\"]\n",
    "                                        \n",
    "secondary_outcomes = list(dataset.keys())[5:14] + list(dataset.keys())[17:22]\n",
    "print(outcomes)\n",
    "print(secondary_outcomes)"
   ]
  },
  {
   "cell_type": "code",
   "execution_count": null,
   "metadata": {
    "id": "EQ9lPtrtW4SF"
   },
   "outputs": [],
   "source": [
    "possible_outcomes_df = dataset[outcomes + secondary_outcomes]"
   ]
  },
  {
   "cell_type": "code",
   "execution_count": null,
   "metadata": {
    "id": "qNovZ6RaSn6P"
   },
   "outputs": [],
   "source": [
    "# isolate training feaures (dropping identifiers and outcome columns)\n",
    "features_df = dataset.drop([\"year\", \"cocnumber\", \"coctag\", \"panelvar\", \"state_abr\"] + outcomes + secondary_outcomes, axis=1, inplace=False)"
   ]
  },
  {
   "cell_type": "code",
   "execution_count": null,
   "metadata": {
    "id": "rouxePB-e3sq"
   },
   "outputs": [],
   "source": [
    "# Identifying features with lots of NaN(missing) values\n",
    "NaN_features = []\n",
    "\n",
    "for key in features_df.keys():\n",
    "  if features_df[key].isna().sum() > 300:\n",
    "    NaN_features.append(key)\n",
    "  # print(key.ljust(35), features_df[key].isna().sum())"
   ]
  },
  {
   "cell_type": "code",
   "execution_count": null,
   "metadata": {
    "id": "auf6O9e6sDQh"
   },
   "outputs": [],
   "source": [
    "#Dropping the Nan features\n",
    "features_df.drop(NaN_features, axis=1, inplace=True)\n",
    "# features_df"
   ]
  },
  {
   "cell_type": "code",
   "execution_count": null,
   "metadata": {
    "id": "0GFkDIKhALyr"
   },
   "outputs": [],
   "source": [
    "# filling the remaining NaNs with the mean of the column\n",
    "for key in features_df.keys():\n",
    "  # print(key)\n",
    "  features_df[key].fillna(value=round(features_df[key].mean()), inplace=True)"
   ]
  },
  {
   "cell_type": "code",
   "execution_count": null,
   "metadata": {
    "id": "n_8jOGrBFZOy"
   },
   "outputs": [],
   "source": [
    "# Adding our outcome var to the end of the dataset\n",
    "features_df[outcome_var] = possible_outcomes_df[outcome_var]\n",
    "# features_df"
   ]
  },
  {
   "cell_type": "code",
   "execution_count": null,
   "metadata": {
    "id": "ob9mEUb-FUeI"
   },
   "outputs": [],
   "source": [
    "outcome_var = \"pit_tot_shelt_pit_hud\""
   ]
  },
  {
   "cell_type": "code",
   "execution_count": null,
   "metadata": {
    "id": "wFmpcIN-F1bz"
   },
   "outputs": [],
   "source": [
    "# Drop the 14 (or however many) NaN values are present in the outcome var\n",
    "dataset = features_df.dropna()"
   ]
  }
 ],
 "metadata": {
  "colab": {
   "include_colab_link": true,
   "name": "Homelessness Prediction Project.ipynb",
   "provenance": [],
   "toc_visible": true
  },
  "kernelspec": {
   "display_name": "Python 3 (ipykernel)",
   "language": "python",
   "name": "python3"
  },
  "language_info": {
   "codemirror_mode": {
    "name": "ipython",
    "version": 3
   },
   "file_extension": ".py",
   "mimetype": "text/x-python",
   "name": "python",
   "nbconvert_exporter": "python",
   "pygments_lexer": "ipython3",
   "version": "3.9.12"
  }
 },
 "nbformat": 4,
 "nbformat_minor": 1
}
